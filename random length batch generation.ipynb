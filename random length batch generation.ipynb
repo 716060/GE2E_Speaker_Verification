{
 "cells": [
  {
   "cell_type": "code",
   "execution_count": 1,
   "metadata": {
    "ExecuteTime": {
     "end_time": "2020-03-08T02:29:55.508405Z",
     "start_time": "2020-03-08T02:29:54.459965Z"
    }
   },
   "outputs": [],
   "source": [
    "import torch.nn\n",
    "import torch.utils\n",
    "from torch.utils.data import Dataset, DataLoader\n",
    "from torchvision import transforms, utils\n",
    "import numpy as np"
   ]
  },
  {
   "cell_type": "code",
   "execution_count": 7,
   "metadata": {
    "ExecuteTime": {
     "end_time": "2020-03-08T02:30:52.820604Z",
     "start_time": "2020-03-08T02:30:52.810946Z"
    }
   },
   "outputs": [],
   "source": [
    "batch_size = 10;\n",
    "\n",
    "class customdataset(Dataset):\n",
    "    def __init__(self):\n",
    "        self.random_length = np.random.randint(60, 80, 1)\n",
    "    def __len__(self):\n",
    "        return 100\n",
    "    def __getitem__(self, index):\n",
    "        if index % batch_size == 0:\n",
    "            self.random_length = np.random.randint(60, 80, 1)\n",
    "        return torch.tensor(np.random.randn(10, self.random_length[0]))\n",
    "\n",
    "dataset = customdataset()"
   ]
  },
  {
   "cell_type": "code",
   "execution_count": 12,
   "metadata": {
    "ExecuteTime": {
     "end_time": "2020-03-08T02:31:27.404366Z",
     "start_time": "2020-03-08T02:31:27.399343Z"
    }
   },
   "outputs": [],
   "source": [
    "data_generator = DataLoader(dataset, batch_size=batch_size)"
   ]
  },
  {
   "cell_type": "code",
   "execution_count": 13,
   "metadata": {
    "ExecuteTime": {
     "end_time": "2020-03-08T02:31:28.032975Z",
     "start_time": "2020-03-08T02:31:27.970794Z"
    }
   },
   "outputs": [
    {
     "name": "stdout",
     "output_type": "stream",
     "text": [
      "0 torch.Size([10, 10, 70])\n",
      "1 torch.Size([10, 10, 68])\n",
      "2 torch.Size([10, 10, 77])\n",
      "3 torch.Size([10, 10, 79])\n",
      "4 torch.Size([10, 10, 60])\n",
      "5 torch.Size([10, 10, 68])\n",
      "6 torch.Size([10, 10, 65])\n",
      "7 torch.Size([10, 10, 77])\n",
      "8 torch.Size([10, 10, 74])\n",
      "9 torch.Size([10, 10, 76])\n"
     ]
    }
   ],
   "source": [
    "for i, batch in enumerate(data_generator):\n",
    "    print(i, batch.shape)"
   ]
  },
  {
   "cell_type": "code",
   "execution_count": null,
   "metadata": {},
   "outputs": [],
   "source": []
  }
 ],
 "metadata": {
  "kernelspec": {
   "display_name": "Python 3",
   "language": "python",
   "name": "python3"
  },
  "language_info": {
   "codemirror_mode": {
    "name": "ipython",
    "version": 3
   },
   "file_extension": ".py",
   "mimetype": "text/x-python",
   "name": "python",
   "nbconvert_exporter": "python",
   "pygments_lexer": "ipython3",
   "version": "3.7.3"
  },
  "toc": {
   "base_numbering": 1,
   "nav_menu": {},
   "number_sections": true,
   "sideBar": true,
   "skip_h1_title": false,
   "title_cell": "Table of Contents",
   "title_sidebar": "Contents",
   "toc_cell": false,
   "toc_position": {},
   "toc_section_display": true,
   "toc_window_display": false
  }
 },
 "nbformat": 4,
 "nbformat_minor": 2
}
