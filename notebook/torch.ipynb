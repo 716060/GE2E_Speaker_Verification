{
 "cells": [
  {
   "cell_type": "code",
   "execution_count": 1,
   "metadata": {
    "ExecuteTime": {
     "end_time": "2020-03-10T05:27:45.088803Z",
     "start_time": "2020-03-10T05:27:44.716424Z"
    }
   },
   "outputs": [],
   "source": [
    "import torch\n",
    "import torch.nn.functional as F"
   ]
  },
  {
   "cell_type": "code",
   "execution_count": 6,
   "metadata": {
    "ExecuteTime": {
     "end_time": "2020-03-09T18:28:44.956829Z",
     "start_time": "2020-03-09T18:28:44.949850Z"
    }
   },
   "outputs": [
    {
     "data": {
      "text/plain": [
       "tensor([[[ 0.5419,  3.0521, -0.6655, -3.9897],\n",
       "         [ 0.5419,  3.0521, -0.6655, -3.9897],\n",
       "         [ 0.5419,  3.0521, -0.6655, -3.9897]],\n",
       "\n",
       "        [[ 2.7878, -1.9474,  1.9980, -2.3520],\n",
       "         [ 2.7878, -1.9474,  1.9980, -2.3520],\n",
       "         [ 2.7878, -1.9474,  1.9980, -2.3520]]])"
      ]
     },
     "execution_count": 6,
     "metadata": {},
     "output_type": "execute_result"
    }
   ],
   "source": [
    "x = torch.ones((2, 3, 4))\n",
    "y = torch.randn((2, 4)).unsqueeze(1) * 2\n",
    "y-x"
   ]
  },
  {
   "cell_type": "code",
   "execution_count": 24,
   "metadata": {
    "ExecuteTime": {
     "end_time": "2020-03-09T19:45:41.354406Z",
     "start_time": "2020-03-09T19:45:41.347427Z"
    }
   },
   "outputs": [
    {
     "data": {
      "text/plain": [
       "<torch._C.Generator at 0x27600430290>"
      ]
     },
     "execution_count": 24,
     "metadata": {},
     "output_type": "execute_result"
    }
   ],
   "source": [
    "torch.manual_seed(0)"
   ]
  },
  {
   "cell_type": "code",
   "execution_count": 30,
   "metadata": {
    "ExecuteTime": {
     "end_time": "2020-03-09T19:51:13.413395Z",
     "start_time": "2020-03-09T19:51:13.404457Z"
    }
   },
   "outputs": [
    {
     "data": {
      "text/plain": [
       "tensor([[0.8057, 0.0000, 1.4564, 0.4190, 2.5597, 2.4895, 1.4672, 0.0000, 0.8785,\n",
       "         0.0000],\n",
       "        [1.1735, 3.0229, 2.0078, 0.8898, 0.6964, 1.0651, 1.8367, 1.3104, 2.2955,\n",
       "         0.2853],\n",
       "        [1.8988, 1.5495, 1.9224, 0.0595, 1.2487, 0.8228, 1.0395, 0.9397, 0.0000,\n",
       "         0.3173],\n",
       "        [2.2342, 1.4692, 1.8086, 0.1066, 0.9730, 1.6783, 0.6901, 1.0479, 1.6295,\n",
       "         0.2581],\n",
       "        [0.3799, 0.9636, 0.4165, 2.7058, 1.5000, 1.3973, 1.0684, 0.0000, 0.6978,\n",
       "         1.4493]])"
      ]
     },
     "execution_count": 30,
     "metadata": {},
     "output_type": "execute_result"
    }
   ],
   "source": [
    "x = torch.randn(5, 10, 5)\n",
    "same_index = list(range(5))\n",
    "x[same_index, :, same_index] = 0\n",
    "torch.max(x, dim=2)[0]"
   ]
  },
  {
   "cell_type": "code",
   "execution_count": 2,
   "metadata": {
    "ExecuteTime": {
     "end_time": "2020-03-10T05:27:48.530551Z",
     "start_time": "2020-03-10T05:27:48.519581Z"
    }
   },
   "outputs": [
    {
     "data": {
      "text/plain": [
       "tensor([[[-0.8788,  0.4973, -0.4462],\n",
       "         [ 0.0513,  0.1919,  1.0148],\n",
       "         [ 1.3350, -0.7270,  0.2080],\n",
       "         [ 1.3824,  0.0340, -0.6382]],\n",
       "\n",
       "        [[-0.9240,  0.9218,  0.4127],\n",
       "         [-1.0235, -0.1158, -0.3771],\n",
       "         [-0.6241, -0.6277, -0.5265],\n",
       "         [-1.5564, -1.1869, -1.8037]],\n",
       "\n",
       "        [[-1.0898, -0.0616,  0.9723],\n",
       "         [ 0.4132,  1.8198,  1.8599],\n",
       "         [-0.5888,  0.5833, -1.8004],\n",
       "         [-1.0254, -0.5400, -0.7194]]])"
      ]
     },
     "execution_count": 2,
     "metadata": {},
     "output_type": "execute_result"
    }
   ],
   "source": [
    "x = torch.randn(3, 4, 3)\n",
    "x"
   ]
  },
  {
   "cell_type": "code",
   "execution_count": 3,
   "metadata": {
    "ExecuteTime": {
     "end_time": "2020-03-10T05:27:51.679129Z",
     "start_time": "2020-03-10T05:27:51.672148Z"
    }
   },
   "outputs": [
    {
     "data": {
      "text/plain": [
       "tensor([[[ 0.8788, -0.4973,  0.4462],\n",
       "         [-0.0513, -0.1919, -1.0148],\n",
       "         [-1.3350,  0.7270, -0.2080],\n",
       "         [-1.3824, -0.0340,  0.6382]],\n",
       "\n",
       "        [[ 0.9240, -0.9218, -0.4127],\n",
       "         [ 1.0235,  0.1158,  0.3771],\n",
       "         [ 0.6241,  0.6277,  0.5265],\n",
       "         [ 1.5564,  1.1869,  1.8037]],\n",
       "\n",
       "        [[ 1.0898,  0.0616, -0.9723],\n",
       "         [-0.4132, -1.8198, -1.8599],\n",
       "         [ 0.5888, -0.5833,  1.8004],\n",
       "         [ 1.0254,  0.5400,  0.7194]]])"
      ]
     },
     "execution_count": 3,
     "metadata": {},
     "output_type": "execute_result"
    }
   ],
   "source": [
    "-x"
   ]
  },
  {
   "cell_type": "code",
   "execution_count": null,
   "metadata": {},
   "outputs": [],
   "source": []
  }
 ],
 "metadata": {
  "kernelspec": {
   "display_name": "Python 3",
   "language": "python",
   "name": "python3"
  },
  "language_info": {
   "codemirror_mode": {
    "name": "ipython",
    "version": 3
   },
   "file_extension": ".py",
   "mimetype": "text/x-python",
   "name": "python",
   "nbconvert_exporter": "python",
   "pygments_lexer": "ipython3",
   "version": "3.7.3"
  },
  "toc": {
   "base_numbering": 1,
   "nav_menu": {},
   "number_sections": true,
   "sideBar": true,
   "skip_h1_title": false,
   "title_cell": "Table of Contents",
   "title_sidebar": "Contents",
   "toc_cell": false,
   "toc_position": {},
   "toc_section_display": true,
   "toc_window_display": false
  }
 },
 "nbformat": 4,
 "nbformat_minor": 2
}
