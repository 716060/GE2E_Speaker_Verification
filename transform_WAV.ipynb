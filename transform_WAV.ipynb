{
 "cells": [
  {
   "cell_type": "code",
   "execution_count": 8,
   "metadata": {
    "ExecuteTime": {
     "end_time": "2020-03-08T07:40:52.958145Z",
     "start_time": "2020-03-08T07:40:52.947174Z"
    }
   },
   "outputs": [
    {
     "name": "stdout",
     "output_type": "stream",
     "text": [
      "9\n",
      "writing file  ./SA1.WAV\n"
     ]
    },
    {
     "data": {
      "text/plain": [
       "'./SA1.WAV'"
      ]
     },
     "execution_count": 8,
     "metadata": {},
     "output_type": "execute_result"
    }
   ],
   "source": [
    "import glob\n",
    "import os\n",
    "import numpy as np\n",
    "import sys\n",
    "from sphfile import SPHFile\n",
    "\n",
    "WAV_file = \"./SA1.WAV\"\n",
    "print(len(WAV_file))\n",
    "\n",
    "sph = SPHFile(WAV_file)\n",
    "txt_file = WAV_file[:-3] + \"TXT\"\n",
    "\n",
    "f = open(txt_file,'r')\n",
    "for line in f:\n",
    "    words = line.split(\" \")\n",
    "    start_time = (int(words[0])/16000)\n",
    "    end_time = (int(words[1])/16000)\n",
    "\n",
    "print(\"writing file \", WAV_file)\n",
    "# if not os.path.isfile(WAV_file):\n",
    "sph.write_wav(WAV_file)"
   ]
  },
  {
   "cell_type": "code",
   "execution_count": null,
   "metadata": {},
   "outputs": [],
   "source": []
  }
 ],
 "metadata": {
  "kernelspec": {
   "display_name": "Python 3",
   "language": "python",
   "name": "python3"
  },
  "language_info": {
   "codemirror_mode": {
    "name": "ipython",
    "version": 3
   },
   "file_extension": ".py",
   "mimetype": "text/x-python",
   "name": "python",
   "nbconvert_exporter": "python",
   "pygments_lexer": "ipython3",
   "version": "3.7.3"
  },
  "toc": {
   "base_numbering": 1,
   "nav_menu": {},
   "number_sections": true,
   "sideBar": true,
   "skip_h1_title": false,
   "title_cell": "Table of Contents",
   "title_sidebar": "Contents",
   "toc_cell": false,
   "toc_position": {},
   "toc_section_display": true,
   "toc_window_display": false
  }
 },
 "nbformat": 4,
 "nbformat_minor": 2
}
